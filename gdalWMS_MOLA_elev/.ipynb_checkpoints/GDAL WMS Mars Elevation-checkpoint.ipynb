{
 "cells": [
  {
   "cell_type": "markdown",
   "metadata": {},
   "source": [
    "### Example to show how to get pixel MOLA elevation\n",
    "#### Currently very brute force\n",
    "some example code from: http://www.geodose.com/2018/03/create-elevation-profile-generator-python.html"
   ]
  },
  {
   "cell_type": "code",
   "execution_count": 1,
   "metadata": {
    "collapsed": true
   },
   "outputs": [],
   "source": [
    "#grab elevation value from Mars WMS elevation service\n",
    "import math, os\n",
    "from string import Template"
   ]
  },
  {
   "cell_type": "code",
   "execution_count": 34,
   "metadata": {},
   "outputs": [],
   "source": [
    "#Function to return elevation in meters from MOLA Web Mapping Server (WMS)\n",
    "#requires GDAL binaries installed - specifiaclly\n",
    "# requires: gdallocationinfo\n",
    "# Although this could also be done in code (using GDAL functions calls).\n",
    "#\n",
    "# How this works - The gdal_XML file setups up the WMS service. GDAL acts as if this a local file thus\n",
    "# one could also simply use gdal_translate to create a local Tiff (or other format). For more info:\n",
    "# http://planetarygis.blogspot.com/2014/09/tips-to-interact-with-astros-wms-maps.html\n",
    "# -Trent Hare, thare@usgs.gov\n",
    "\n",
    "def pointElevationMOLA(lon,lat):\n",
    "\n",
    "    #setup 1x1 degree tile by flooring the input Lon and Lat\n",
    "    min_lon = math.floor(lon) \n",
    "    max_lon = min_lon +1\n",
    "    min_lat = math.floor(lat) \n",
    "    max_lat = min_lat +1\n",
    "\n",
    "    #odd workaround for edge\n",
    "    if  (lon == math.floor(lon)):\n",
    "        min_lon = min_lon - 0.1\n",
    "        max_lon = max_lon - 0.1\n",
    "    if  (lat == math.floor(lat)):\n",
    "        min_lat = min_lat - 0.1\n",
    "        max_lat = max_lat - 0.1\n",
    "\n",
    "    #build this XML file.\n",
    "    gdal_XML = Template(\"\"\"<GDAL_WMS>\n",
    "      <Service name=\"WMS\">\n",
    "        <Version>1.1.1</Version>\n",
    "        <ServerUrl>http://wms.wr.usgs.gov/cgi-bin/mapserv?map=/maps/mars/mars_simp_cyl_elev.map</ServerUrl>\n",
    "        <SRS>EPSG:4326</SRS>\n",
    "        <ImageFormat>image/tiff</ImageFormat>\n",
    "        <Layers>MOLA_elev</Layers>\n",
    "      </Service>\n",
    "      <DataWindow>\n",
    "        <UpperLeftX>$minLon</UpperLeftX>\n",
    "        <UpperLeftY>$maxLat</UpperLeftY>\n",
    "        <LowerRightX>$maxLon</LowerRightX>\n",
    "        <LowerRightY>$minLat</LowerRightY>\n",
    "         <SizeX>128</SizeX>\n",
    "         <SizeY>128</SizeY>\n",
    "      </DataWindow>\n",
    "      <Projection>EPSG:4326</Projection>\n",
    "      <BandsCount>1</BandsCount>\n",
    "      <DataType>Int16</DataType>\n",
    "    </GDAL_WMS>\n",
    "    \"\"\")\n",
    "\n",
    "    gdal_WMS = gdal_XML.substitute(minLon=min_lon, maxLon=max_lon, minLat=min_lat, maxLat=max_lat)\n",
    "    xmlFilename = \"gdal_WMS.xml\"\n",
    "    outFile = open( xmlFilename ,'w')\n",
    "    outFile.write( gdal_WMS  )\n",
    "    outFile.close()\n",
    "\n",
    "    cmd = \"gdallocationinfo -valonly -geoloc %s %s %s\" % (xmlFilename, str(lon), str(lat))\n",
    "    #print(cmd)\n",
    "    elevValue = os.popen(cmd).read()\n",
    "    try:\n",
    "        return int(elevValue)\n",
    "    except:\n",
    "        return -9999"
   ]
  },
  {
   "cell_type": "code",
   "execution_count": 35,
   "metadata": {},
   "outputs": [
    {
     "name": "stdout",
     "output_type": "stream",
     "text": [
      "1529\n"
     ]
    }
   ],
   "source": [
    "molaElev = pointElevationMOLA(280.5,45)\n",
    "print(molaElev)"
   ]
  },
  {
   "cell_type": "markdown",
   "metadata": {},
   "source": [
    "### Now let's try a brute force elevation profile"
   ]
  },
  {
   "cell_type": "markdown",
   "metadata": {},
   "source": [
    "Here we are going to setup a couple more functions - from:\n",
    "http://www.geodose.com/2018/03/create-elevation-profile-generator-python.html"
   ]
  },
  {
   "cell_type": "code",
   "execution_count": 11,
   "metadata": {},
   "outputs": [],
   "source": [
    "#HAVERSINE FUNCTION - add variable radius\n",
    "def haversine(lat1,lon1,lat2,lon2,radius):\n",
    "   \n",
    "    lat1_rad=math.radians(lat1)\n",
    "    lat2_rad=math.radians(lat2)\n",
    "    lon1_rad=math.radians(lon1)\n",
    "    lon2_rad=math.radians(lon2)\n",
    "    delta_lat=lat2_rad-lat1_rad\n",
    "    delta_lon=lon2_rad-lon1_rad\n",
    "    a=math.sqrt((math.sin(delta_lat/2))**2+math.cos(lat1_rad)*math.cos(lat2_rad)*(math.sin(delta_lon/2))**2)\n",
    "    d=2*radius*math.asin(a)\n",
    "    return d"
   ]
  },
  {
   "cell_type": "code",
   "execution_count": 103,
   "metadata": {},
   "outputs": [
    {
     "data": {
      "text/html": [
       "<img src=\"http://planetarymaps.usgs.gov/cgi-bin/mapserv?map=/maps/mars/mars_simp_cyl.map&SERVICE=WMS&VERSION=1.1.1&SRS=EPSG:4326&STYLES=&REQUEST=GetMap&FORMAT=image%2Fjpeg&LAYERS=MDIM21&BBOX=221,13,231,23&WIDTH=500&HEIGHT=500\"/>"
      ],
      "text/plain": [
       "<IPython.core.display.Image object>"
      ]
     },
     "execution_count": 103,
     "metadata": {},
     "output_type": "execute_result"
    }
   ],
   "source": [
    "import matplotlib.pyplot as plt\n",
    "import requests\n",
    "from IPython.display import display, Image, SVG, Math, YouTubeVideo\n",
    "\n",
    "#start and end points -- a diagnal across Olympus Mons\n",
    "P1=[13,221]\n",
    "P2=[23,231]\n",
    "\n",
    "mars_WMS = Template(\"http://planetarymaps.usgs.gov/cgi-bin/mapserv?map=/maps/mars/mars_simp_cyl.map&SERVICE=WMS&VERSION=1.1.1&SRS=EPSG:4326&STYLES=&REQUEST=GetMap&FORMAT=image%2Fjpeg&LAYERS=MDIM21&BBOX=$lon1,$lat1,$lon2,$lat2&WIDTH=500&HEIGHT=500\")\n",
    "cmd = mars_WMS.substitute(lon1=P1[1], lat1=P1[0], lon2=P2[1],  lat2=P2[0])\n",
    "\n",
    "#print(cmd)\n",
    "#marsImage = requests.get(cmd).content\n",
    "\n",
    "\n",
    "from IPython.display import Image\n",
    "Image(url=cmd)\n"
   ]
  },
  {
   "cell_type": "code",
   "execution_count": 106,
   "metadata": {},
   "outputs": [
    {
     "name": "stdout",
     "output_type": "stream",
     "text": [
      "[-1497, -1448, -881, -694, -431, 55, 768, 1582, 2463, 5418, 7472, 8714, 9896, 11218, 12816, 14358, 15596, 17027, 18636, 19871, 20545, 18461, 18114, 18761, 19544, 18568, 16917, 15253, 13802, 12199, 10720, 9246, 7940, 7027, 5796, 1561, 800, 173, -377, -676, -826]\n"
     ]
    }
   ],
   "source": [
    "#Number of points\n",
    "s=40\n",
    "interval_lat=(P2[0]-P1[0])/s #interval for latitude\n",
    "interval_lon=(P2[1]-P1[1])/s #interval for longitude\n",
    "\n",
    "#variable for starting point\n",
    "lat0=P1[0]\n",
    "lon0=P1[1]\n",
    "\n",
    "#Latitude and Longitude List\n",
    "lat_list=[lat0]\n",
    "lon_list=[lon0]\n",
    "elev_list=[]\n",
    "\n",
    "#Gererate list of lat/lons\n",
    "for i in range(s):\n",
    "    lat_step=lat0+interval_lat\n",
    "    lon_step=lon0+interval_lon\n",
    "    lon0=lon_step\n",
    "    lat0=lat_step\n",
    "    lat_list.append(lat_step)\n",
    "    lon_list.append(lon_step)\n",
    "    \n",
    "#Get distances between points\n",
    "marsRadius = 3396190.0\n",
    "d_list=[]\n",
    "for j in range(len(lat_list)):\n",
    "    lat_p=lat_list[j]\n",
    "    lon_p=lon_list[j]\n",
    "    dp=haversine(lat0,lon0,lat_p,lon_p, marsRadius)/1000 #km\n",
    "    d_list.append(dp)\n",
    "d_list_rev=d_list[::-1] #reverse list\n",
    "\n",
    "#Brute force call WMS per point - not optimal by any means!\n",
    "elev_list=[{}]*len(lat_list)\n",
    "for i in range(len(lat_list)):\n",
    "    elev_list[i]=pointElevationMOLA(lon_list[i],lat_list[i])\n",
    "\n",
    "print(elev_list)"
   ]
  },
  {
   "cell_type": "code",
   "execution_count": 108,
   "metadata": {},
   "outputs": [
    {
     "data": {
      "image/png": "[encoded data removed]",
      "text/plain": [
       "<matplotlib.figure.Figure at 0x18b2aa7a7b8>"
      ]
     },
     "metadata": {},
     "output_type": "display_data"
    }
   ],
   "source": [
    "import matplotlib.pyplot as plt\n",
    "\n",
    "#Stats\n",
    "mean_elev=round((sum(elev_list)/len(elev_list)),3)\n",
    "min_elev=min(elev_list)\n",
    "max_elev=max(elev_list)\n",
    "distance=d_list_rev[-1]\n",
    "\n",
    "#Plot Elevation Profile\n",
    "base_reg=min_elev - 100\n",
    "plt.figure(figsize=(16,4))\n",
    "plt.plot(d_list_rev,elev_list)\n",
    "plt.plot([0,distance],[min_elev,min_elev],'--g',label='min: '+str(min_elev)+' m')\n",
    "plt.plot([0,distance],[max_elev,max_elev],'--r',label='max: '+str(max_elev)+' m')\n",
    "plt.plot([0,distance],[mean_elev,mean_elev],'--y',label='ave: '+str(mean_elev)+' m')\n",
    "plt.fill_between(d_list_rev,elev_list,base_reg,alpha=0.1)\n",
    "plt.text(d_list_rev[0],elev_list[0],\"P1\")\n",
    "plt.text(d_list_rev[-1],elev_list[-1],\"P2\")\n",
    "plt.xlabel(\"Distance(km)\")\n",
    "plt.ylabel(\"Elevation(m)\")\n",
    "plt.grid()\n",
    "plt.legend(fontsize='small')\n",
    "plt.show()"
   ]
  },
  {
   "cell_type": "code",
   "execution_count": null,
   "metadata": {
    "collapsed": true
   },
   "outputs": [],
   "source": []
  }
 ],
 "metadata": {
  "kernelspec": {
   "display_name": "Python 3",
   "language": "python",
   "name": "python3"
  },
  "language_info": {
   "codemirror_mode": {
    "name": "ipython",
    "version": 3
   },
   "file_extension": ".py",
   "mimetype": "text/x-python",
   "name": "python",
   "nbconvert_exporter": "python",
   "pygments_lexer": "ipython3",
   "version": "3.6.1"
  }
 },
 "nbformat": 4,
 "nbformat_minor": 2
}
